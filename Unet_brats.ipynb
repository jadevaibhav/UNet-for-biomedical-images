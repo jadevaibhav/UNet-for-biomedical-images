{
  "nbformat": 4,
  "nbformat_minor": 0,
  "metadata": {
    "colab": {
      "name": "Unet_brats.ipynb",
      "version": "0.3.2",
      "provenance": [],
      "collapsed_sections": [],
      "include_colab_link": true
    },
    "kernelspec": {
      "name": "python3",
      "display_name": "Python 3"
    },
    "accelerator": "TPU"
  },
  "cells": [
    {
      "cell_type": "markdown",
      "metadata": {
        "id": "view-in-github",
        "colab_type": "text"
      },
      "source": [
        "<a href=\"https://colab.research.google.com/github/jadevaibhav/UNet-for-biomedical-images/blob/master/Unet_brats.ipynb\" target=\"_parent\"><img src=\"https://colab.research.google.com/assets/colab-badge.svg\" alt=\"Open In Colab\"/></a>"
      ]
    },
    {
      "metadata": {
        "id": "9TDZDf9xj9Q2",
        "colab_type": "code",
        "outputId": "b619ed8e-d231-4659-df0c-6e2c587dd0b5",
        "colab": {
          "base_uri": "https://localhost:8080/",
          "height": 122
        }
      },
      "cell_type": "code",
      "source": [
        "from google.colab import drive\n",
        "drive.mount('/content/drive')"
      ],
      "execution_count": 0,
      "outputs": [
        {
          "output_type": "stream",
          "text": [
            "Go to this URL in a browser: https://accounts.google.com/o/oauth2/auth?client_id=947318989803-6bn6qk8qdgf4n4g3pfee6491hc0brc4i.apps.googleusercontent.com&redirect_uri=urn%3Aietf%3Awg%3Aoauth%3A2.0%3Aoob&scope=email%20https%3A%2F%2Fwww.googleapis.com%2Fauth%2Fdocs.test%20https%3A%2F%2Fwww.googleapis.com%2Fauth%2Fdrive%20https%3A%2F%2Fwww.googleapis.com%2Fauth%2Fdrive.photos.readonly%20https%3A%2F%2Fwww.googleapis.com%2Fauth%2Fpeopleapi.readonly&response_type=code\n",
            "\n",
            "Enter your authorization code:\n",
            "··········\n",
            "Mounted at /content/drive\n"
          ],
          "name": "stdout"
        }
      ]
    },
    {
      "metadata": {
        "id": "AsfhPbPLkGmq",
        "colab_type": "code",
        "colab": {}
      },
      "cell_type": "code",
      "source": [
        "import os \n",
        "os.chdir('drive/My Drive/brat')"
      ],
      "execution_count": 0,
      "outputs": []
    },
    {
      "metadata": {
        "id": "EokTGoGKkKUW",
        "colab_type": "code",
        "colab": {}
      },
      "cell_type": "code",
      "source": [
        "import keras\n",
        "import tensorflow as tf\n",
        "from keras import layers\n",
        "from keras.layers import Input, Dense, Activation, ZeroPadding2D, BatchNormalization, Flatten, Conv2D, Lambda,Concatenate,Cropping2D\n",
        "from keras.layers import AveragePooling2D, MaxPooling2D, Dropout, GlobalMaxPooling2D, GlobalAveragePooling2D, Add, Conv2DTranspose\n",
        "from keras.models import Model\n",
        "from keras import regularizers\n",
        "from keras.preprocessing import image\n",
        "from keras.utils import layer_utils,to_categorical\n",
        "from keras.utils.data_utils import get_file\n",
        "from keras.applications.imagenet_utils import preprocess_input\n",
        "from keras.initializers import glorot_normal\n",
        "#import pydot\n",
        "from IPython.display import SVG\n",
        "from keras.utils.vis_utils import model_to_dot\n",
        "from keras.utils import plot_model"
      ],
      "execution_count": 0,
      "outputs": []
    },
    {
      "metadata": {
        "id": "PbTQqiX2mXK1",
        "colab_type": "text"
      },
      "cell_type": "markdown",
      "source": [
        "**No need of cropping with same padding**"
      ]
    },
    {
      "metadata": {
        "id": "Rb94ZdZ0nW40",
        "colab_type": "code",
        "colab": {}
      },
      "cell_type": "code",
      "source": [
        "def crop(in1,in2):\n",
        "  len1 = int(in1[1])*2\n",
        "  wid1 = int(in1[2])*2\n",
        "  len2 = int(in2[1])\n",
        "  wid2 = int(in2[2])\n",
        "  ln = int((len2-len1)/2) \n",
        "  wid = int((wid2-wid1)/2)\n",
        "  return (ln,wid)"
      ],
      "execution_count": 0,
      "outputs": []
    },
    {
      "metadata": {
        "id": "tl4qw3YbzgkK",
        "colab_type": "code",
        "colab": {}
      },
      "cell_type": "code",
      "source": [
        "def conv_block(X,filters):\n",
        "  X = Conv2D(filters,(3,3),padding='same')(X)\n",
        "  X = BatchNormalization()(X)\n",
        "  X = Activation('relu')(X)\n",
        "  X = Conv2D(filters,(3,3),padding = 'same')(X)\n",
        "  X = BatchNormalization()(X)\n",
        "  X = Activation('relu')(X)\n",
        "  \n",
        "  return X"
      ],
      "execution_count": 0,
      "outputs": []
    },
    {
      "metadata": {
        "id": "8la1Innmpq3T",
        "colab_type": "code",
        "colab": {}
      },
      "cell_type": "code",
      "source": [
        "def down_block(X,block_no):\n",
        "  Xa = conv_block(X,64*2**(block_no - 1))\n",
        "  X = MaxPooling2D((2,2))(Xa)\n",
        "  print(X.shape)\n",
        "  \n",
        "  return(X,Xa)"
      ],
      "execution_count": 0,
      "outputs": []
    },
    {
      "metadata": {
        "id": "mazpnmMjq76Y",
        "colab_type": "code",
        "colab": {}
      },
      "cell_type": "code",
      "source": [
        "def up_block(X,Xa):\n",
        "  \n",
        "  channels = int(Xa.shape[3])\n",
        "  X = Conv2DTranspose(channels,(2,2),strides=(2,2))(X)\n",
        "  X = Concatenate(axis=-1)([Xa,X])\n",
        "  X = conv_block(X,channels)\n",
        "  print(X.shape)\n",
        "  \n",
        "  return X"
      ],
      "execution_count": 0,
      "outputs": []
    },
    {
      "metadata": {
        "id": "ZquP9P7OkSkk",
        "colab_type": "code",
        "outputId": "40c4c23d-6e97-48a5-ebb6-69fd0dcf6bbe",
        "colab": {
          "base_uri": "https://localhost:8080/",
          "height": 153
        }
      },
      "cell_type": "code",
      "source": [
        "  input_shape=(None,None,4)\n",
        "#def unet(input_shape):\n",
        "  X_in = Input(input_shape)\n",
        "  \n",
        "  X,X1 = down_block(X_in,1)\n",
        "  \n",
        "  X,X2 = down_block(X,2)\n",
        "    \n",
        "  X,X3 = down_block(X,3)\n",
        "  \n",
        "  _,X = down_block(X,4)\n",
        "   \n",
        "  X = up_block(X,X3)\n",
        "  \n",
        "  X = up_block(X,X2)\n",
        "  \n",
        "  X = up_block(X,X1)\n",
        "  \n",
        "  X = Conv2D(5,(1,1))(X)\n",
        "  #X = Activation('softmax')(X)\n",
        "  print(X.shape)\n",
        "\n",
        "  M = Model(inputs=X_in,outputs=X)"
      ],
      "execution_count": 0,
      "outputs": [
        {
          "output_type": "stream",
          "text": [
            "(?, ?, ?, 64)\n",
            "(?, ?, ?, 128)\n",
            "(?, ?, ?, 256)\n",
            "(?, ?, ?, 512)\n",
            "(?, ?, ?, 256)\n",
            "(?, ?, ?, 128)\n",
            "(?, ?, ?, 64)\n",
            "(?, ?, ?, 5)\n"
          ],
          "name": "stdout"
        }
      ]
    },
    {
      "metadata": {
        "id": "emPyHq6S72L7",
        "colab_type": "code",
        "outputId": "06618940-15ce-4a9f-9096-af84ff851bf0",
        "colab": {
          "base_uri": "https://localhost:8080/",
          "height": 1989
        }
      },
      "cell_type": "code",
      "source": [
        "M.summary()"
      ],
      "execution_count": 0,
      "outputs": [
        {
          "output_type": "stream",
          "text": [
            "__________________________________________________________________________________________________\n",
            "Layer (type)                    Output Shape         Param #     Connected to                     \n",
            "==================================================================================================\n",
            "input_4 (InputLayer)            (None, None, None, 4 0                                            \n",
            "__________________________________________________________________________________________________\n",
            "conv2d_46 (Conv2D)              (None, None, None, 6 2368        input_4[0][0]                    \n",
            "__________________________________________________________________________________________________\n",
            "batch_normalization_43 (BatchNo (None, None, None, 6 256         conv2d_46[0][0]                  \n",
            "__________________________________________________________________________________________________\n",
            "activation_45 (Activation)      (None, None, None, 6 0           batch_normalization_43[0][0]     \n",
            "__________________________________________________________________________________________________\n",
            "conv2d_47 (Conv2D)              (None, None, None, 6 36928       activation_45[0][0]              \n",
            "__________________________________________________________________________________________________\n",
            "batch_normalization_44 (BatchNo (None, None, None, 6 256         conv2d_47[0][0]                  \n",
            "__________________________________________________________________________________________________\n",
            "activation_46 (Activation)      (None, None, None, 6 0           batch_normalization_44[0][0]     \n",
            "__________________________________________________________________________________________________\n",
            "max_pooling2d_13 (MaxPooling2D) (None, None, None, 6 0           activation_46[0][0]              \n",
            "__________________________________________________________________________________________________\n",
            "conv2d_48 (Conv2D)              (None, None, None, 1 73856       max_pooling2d_13[0][0]           \n",
            "__________________________________________________________________________________________________\n",
            "batch_normalization_45 (BatchNo (None, None, None, 1 512         conv2d_48[0][0]                  \n",
            "__________________________________________________________________________________________________\n",
            "activation_47 (Activation)      (None, None, None, 1 0           batch_normalization_45[0][0]     \n",
            "__________________________________________________________________________________________________\n",
            "conv2d_49 (Conv2D)              (None, None, None, 1 147584      activation_47[0][0]              \n",
            "__________________________________________________________________________________________________\n",
            "batch_normalization_46 (BatchNo (None, None, None, 1 512         conv2d_49[0][0]                  \n",
            "__________________________________________________________________________________________________\n",
            "activation_48 (Activation)      (None, None, None, 1 0           batch_normalization_46[0][0]     \n",
            "__________________________________________________________________________________________________\n",
            "max_pooling2d_14 (MaxPooling2D) (None, None, None, 1 0           activation_48[0][0]              \n",
            "__________________________________________________________________________________________________\n",
            "conv2d_50 (Conv2D)              (None, None, None, 2 295168      max_pooling2d_14[0][0]           \n",
            "__________________________________________________________________________________________________\n",
            "batch_normalization_47 (BatchNo (None, None, None, 2 1024        conv2d_50[0][0]                  \n",
            "__________________________________________________________________________________________________\n",
            "activation_49 (Activation)      (None, None, None, 2 0           batch_normalization_47[0][0]     \n",
            "__________________________________________________________________________________________________\n",
            "conv2d_51 (Conv2D)              (None, None, None, 2 590080      activation_49[0][0]              \n",
            "__________________________________________________________________________________________________\n",
            "batch_normalization_48 (BatchNo (None, None, None, 2 1024        conv2d_51[0][0]                  \n",
            "__________________________________________________________________________________________________\n",
            "activation_50 (Activation)      (None, None, None, 2 0           batch_normalization_48[0][0]     \n",
            "__________________________________________________________________________________________________\n",
            "max_pooling2d_15 (MaxPooling2D) (None, None, None, 2 0           activation_50[0][0]              \n",
            "__________________________________________________________________________________________________\n",
            "conv2d_52 (Conv2D)              (None, None, None, 5 1180160     max_pooling2d_15[0][0]           \n",
            "__________________________________________________________________________________________________\n",
            "batch_normalization_49 (BatchNo (None, None, None, 5 2048        conv2d_52[0][0]                  \n",
            "__________________________________________________________________________________________________\n",
            "activation_51 (Activation)      (None, None, None, 5 0           batch_normalization_49[0][0]     \n",
            "__________________________________________________________________________________________________\n",
            "conv2d_53 (Conv2D)              (None, None, None, 5 2359808     activation_51[0][0]              \n",
            "__________________________________________________________________________________________________\n",
            "batch_normalization_50 (BatchNo (None, None, None, 5 2048        conv2d_53[0][0]                  \n",
            "__________________________________________________________________________________________________\n",
            "activation_52 (Activation)      (None, None, None, 5 0           batch_normalization_50[0][0]     \n",
            "__________________________________________________________________________________________________\n",
            "conv2d_transpose_10 (Conv2DTran (None, None, None, 2 524544      activation_52[0][0]              \n",
            "__________________________________________________________________________________________________\n",
            "concatenate_10 (Concatenate)    (None, None, None, 5 0           activation_50[0][0]              \n",
            "                                                                 conv2d_transpose_10[0][0]        \n",
            "__________________________________________________________________________________________________\n",
            "conv2d_54 (Conv2D)              (None, None, None, 2 1179904     concatenate_10[0][0]             \n",
            "__________________________________________________________________________________________________\n",
            "batch_normalization_51 (BatchNo (None, None, None, 2 1024        conv2d_54[0][0]                  \n",
            "__________________________________________________________________________________________________\n",
            "activation_53 (Activation)      (None, None, None, 2 0           batch_normalization_51[0][0]     \n",
            "__________________________________________________________________________________________________\n",
            "conv2d_55 (Conv2D)              (None, None, None, 2 590080      activation_53[0][0]              \n",
            "__________________________________________________________________________________________________\n",
            "batch_normalization_52 (BatchNo (None, None, None, 2 1024        conv2d_55[0][0]                  \n",
            "__________________________________________________________________________________________________\n",
            "activation_54 (Activation)      (None, None, None, 2 0           batch_normalization_52[0][0]     \n",
            "__________________________________________________________________________________________________\n",
            "conv2d_transpose_11 (Conv2DTran (None, None, None, 1 131200      activation_54[0][0]              \n",
            "__________________________________________________________________________________________________\n",
            "concatenate_11 (Concatenate)    (None, None, None, 2 0           activation_48[0][0]              \n",
            "                                                                 conv2d_transpose_11[0][0]        \n",
            "__________________________________________________________________________________________________\n",
            "conv2d_56 (Conv2D)              (None, None, None, 1 295040      concatenate_11[0][0]             \n",
            "__________________________________________________________________________________________________\n",
            "batch_normalization_53 (BatchNo (None, None, None, 1 512         conv2d_56[0][0]                  \n",
            "__________________________________________________________________________________________________\n",
            "activation_55 (Activation)      (None, None, None, 1 0           batch_normalization_53[0][0]     \n",
            "__________________________________________________________________________________________________\n",
            "conv2d_57 (Conv2D)              (None, None, None, 1 147584      activation_55[0][0]              \n",
            "__________________________________________________________________________________________________\n",
            "batch_normalization_54 (BatchNo (None, None, None, 1 512         conv2d_57[0][0]                  \n",
            "__________________________________________________________________________________________________\n",
            "activation_56 (Activation)      (None, None, None, 1 0           batch_normalization_54[0][0]     \n",
            "__________________________________________________________________________________________________\n",
            "conv2d_transpose_12 (Conv2DTran (None, None, None, 6 32832       activation_56[0][0]              \n",
            "__________________________________________________________________________________________________\n",
            "concatenate_12 (Concatenate)    (None, None, None, 1 0           activation_46[0][0]              \n",
            "                                                                 conv2d_transpose_12[0][0]        \n",
            "__________________________________________________________________________________________________\n",
            "conv2d_58 (Conv2D)              (None, None, None, 6 73792       concatenate_12[0][0]             \n",
            "__________________________________________________________________________________________________\n",
            "batch_normalization_55 (BatchNo (None, None, None, 6 256         conv2d_58[0][0]                  \n",
            "__________________________________________________________________________________________________\n",
            "activation_57 (Activation)      (None, None, None, 6 0           batch_normalization_55[0][0]     \n",
            "__________________________________________________________________________________________________\n",
            "conv2d_59 (Conv2D)              (None, None, None, 6 36928       activation_57[0][0]              \n",
            "__________________________________________________________________________________________________\n",
            "batch_normalization_56 (BatchNo (None, None, None, 6 256         conv2d_59[0][0]                  \n",
            "__________________________________________________________________________________________________\n",
            "activation_58 (Activation)      (None, None, None, 6 0           batch_normalization_56[0][0]     \n",
            "__________________________________________________________________________________________________\n",
            "conv2d_60 (Conv2D)              (None, None, None, 5 325         activation_58[0][0]              \n",
            "==================================================================================================\n",
            "Total params: 7,709,445\n",
            "Trainable params: 7,703,813\n",
            "Non-trainable params: 5,632\n",
            "__________________________________________________________________________________________________\n"
          ],
          "name": "stdout"
        }
      ]
    },
    {
      "metadata": {
        "id": "i180XNCmBSgJ",
        "colab_type": "code",
        "colab": {}
      },
      "cell_type": "code",
      "source": [
        "def sparse_loss(y_true, y_pred):\n",
        "    return tf.nn.sparse_softmax_cross_entropy_with_logits(labels=y_true,\n",
        "                                                          logits=y_pred)"
      ],
      "execution_count": 0,
      "outputs": []
    },
    {
      "metadata": {
        "id": "uZ3534G2kWBF",
        "colab_type": "code",
        "colab": {}
      },
      "cell_type": "code",
      "source": [
        "M.compile(optimizer='adam',loss='categorical_crossentropy',metrics=['accuracy'])"
      ],
      "execution_count": 0,
      "outputs": []
    },
    {
      "metadata": {
        "id": "7wL4xWQvoWZn",
        "colab_type": "text"
      },
      "cell_type": "markdown",
      "source": [
        "**Data processing**"
      ]
    },
    {
      "metadata": {
        "id": "eL07bnPsk182",
        "colab_type": "code",
        "outputId": "90b2c665-1b39-4c57-a13b-9dc383391d26",
        "colab": {
          "base_uri": "https://localhost:8080/",
          "height": 122
        }
      },
      "cell_type": "code",
      "source": [
        "!pip3 install SimpleITK"
      ],
      "execution_count": 0,
      "outputs": [
        {
          "output_type": "stream",
          "text": [
            "Collecting SimpleITK\n",
            "\u001b[?25l  Downloading https://files.pythonhosted.org/packages/88/08/9be802a363c1259d1c9d8d684ee23d3cffa7f35be62ab8a2d8f7890cfa7c/SimpleITK-1.1.0-cp36-cp36m-manylinux1_x86_64.whl (41.0MB)\n",
            "\u001b[K    100% |████████████████████████████████| 41.0MB 764kB/s \n",
            "\u001b[?25hInstalling collected packages: SimpleITK\n",
            "Successfully installed SimpleITK-1.1.0\n"
          ],
          "name": "stdout"
        }
      ]
    },
    {
      "metadata": {
        "id": "w3LKIwdz4CeL",
        "colab_type": "code",
        "colab": {}
      },
      "cell_type": "code",
      "source": [
        "from sklearn.utils import class_weight"
      ],
      "execution_count": 0,
      "outputs": []
    },
    {
      "metadata": {
        "id": "-QHxp0tT4Htl",
        "colab_type": "code",
        "colab": {}
      },
      "cell_type": "code",
      "source": [
        ""
      ],
      "execution_count": 0,
      "outputs": []
    },
    {
      "metadata": {
        "id": "9PlwjTywoiRU",
        "colab_type": "code",
        "colab": {}
      },
      "cell_type": "code",
      "source": [
        "import SimpleITK as sitk\n",
        "import numpy as np"
      ],
      "execution_count": 0,
      "outputs": []
    },
    {
      "metadata": {
        "id": "ELQWFJdUonFi",
        "colab_type": "code",
        "outputId": "c810423a-2ecb-4212-c9e0-c143659bf83e",
        "colab": {
          "base_uri": "https://localhost:8080/",
          "height": 170
        }
      },
      "cell_type": "code",
      "source": [
        "fold = os.listdir('HG/')\n",
        "fold.sort(key=str.lower) \n",
        "\n",
        "for path in fold:\n",
        "    print(path)\n",
        "    path = 'HG/'+path\n",
        "    p = os.listdir(path)\n",
        "    p.sort(key=str.lower)\n",
        "    arr = []\n",
        "    \n",
        "    # Reading from 4 images and creating 4 channel slice-wise \n",
        "    for i in range(len(p)):\n",
        "      if(i != 4):\n",
        "        p1 = os.listdir(path+'/'+p[i])\n",
        "        p1.sort()\n",
        "        img = sitk.ReadImage(path+'/'+p[i]+'/'+p1[-1])\n",
        "        arr.append(sitk.GetArrayFromImage(img))\n",
        "      else:\n",
        "        p1 = os.listdir(path+'/'+p[i])\n",
        "        img = sitk.ReadImage(path+'/'+p[i]+'/'+p1[0])\n",
        "        Y_labels = sitk.GetArrayFromImage(img)\n",
        "    data = np.zeros((Y_labels.shape[0],Y_labels.shape[1],Y_labels.shape[2],4))\n",
        "    for i in range(Y_labels.shape[0]):\n",
        "      data[i,:,:,0] = arr[0][i,:,:]\n",
        "      data[i,:,:,1] = arr[1][i,:,:]\n",
        "      data[i,:,:,2] = arr[2][i,:,:]\n",
        "      data[i,:,:,3] = arr[3][i,:,:]\n",
        "    Y_labels = Y_labels.reshape((Y_labels.shape[0],Y_labels.shape[1],Y_labels.shape[2],1))\n",
        "    y = Y_labels.reshape((-1))\n",
        "    class_weights = class_weight.compute_class_weight('balanced',\n",
        "                                                          np.unique(y),\n",
        "                                                          y)\n",
        "    Y_labels = to_categorical(Y_labels,5)\n",
        "    print(data.shape)\n",
        "    print(Y_labels.shape)\n",
        "    # Training the model\n",
        "    M.fit(data,Y_labels,epochs=5,batch_size=4,class_weight = class_weights)\n",
        "    M.save('unet_brats.h5')"
      ],
      "execution_count": 0,
      "outputs": [
        {
          "output_type": "stream",
          "text": [
            "0001\n",
            "(176, 216, 160, 4)\n",
            "(176, 216, 160, 5)\n",
            "Epoch 1/5\n",
            "176/176 [==============================] - 742s 4s/step - loss: nan - acc: 0.9816\n",
            "Epoch 2/5\n",
            "176/176 [==============================] - 742s 4s/step - loss: nan - acc: 0.9816\n",
            "Epoch 3/5\n",
            "172/176 [============================>.] - ETA: 16s - loss: nan - acc: 0.9814"
          ],
          "name": "stdout"
        }
      ]
    },
    {
      "metadata": {
        "id": "RaPCQtF-pCDF",
        "colab_type": "code",
        "colab": {}
      },
      "cell_type": "code",
      "source": [
        "                      "
      ],
      "execution_count": 0,
      "outputs": []
    }
  ]
}