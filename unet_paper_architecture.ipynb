{
  "nbformat": 4,
  "nbformat_minor": 0,
  "metadata": {
    "colab": {
      "name": "unet_paper_architecture.ipynb",
      "version": "0.3.2",
      "provenance": [],
      "collapsed_sections": [],
      "include_colab_link": true
    },
    "kernelspec": {
      "name": "python3",
      "display_name": "Python 3"
    },
    "accelerator": "TPU"
  },
  "cells": [
    {
      "cell_type": "markdown",
      "metadata": {
        "id": "view-in-github",
        "colab_type": "text"
      },
      "source": [
        "[View in Colaboratory](https://colab.research.google.com/github/jadevaibhav/UNet-for-biomedical-images/blob/master/unet_paper_architecture.ipynb)"
      ]
    },
    {
      "metadata": {
        "id": "GbO4pm8k0Xj3",
        "colab_type": "code",
        "colab": {
          "base_uri": "https://localhost:8080/",
          "height": 122
        },
        "outputId": "3d0d66e2-5cfb-459f-a14b-515f3f0eec86"
      },
      "cell_type": "code",
      "source": [
        "from google.colab import drive\n",
        "drive.mount('/content/drive')"
      ],
      "execution_count": 1,
      "outputs": [
        {
          "output_type": "stream",
          "text": [
            "Go to this URL in a browser: https://accounts.google.com/o/oauth2/auth?client_id=947318989803-6bn6qk8qdgf4n4g3pfee6491hc0brc4i.apps.googleusercontent.com&redirect_uri=urn%3Aietf%3Awg%3Aoauth%3A2.0%3Aoob&scope=email%20https%3A%2F%2Fwww.googleapis.com%2Fauth%2Fdocs.test%20https%3A%2F%2Fwww.googleapis.com%2Fauth%2Fdrive%20https%3A%2F%2Fwww.googleapis.com%2Fauth%2Fdrive.photos.readonly%20https%3A%2F%2Fwww.googleapis.com%2Fauth%2Fpeopleapi.readonly&response_type=code\n",
            "\n",
            "Enter your authorization code:\n",
            "··········\n",
            "Mounted at /content/drive\n"
          ],
          "name": "stdout"
        }
      ]
    },
    {
      "metadata": {
        "id": "3Td0qAIU0Ze6",
        "colab_type": "code",
        "colab": {
          "base_uri": "https://localhost:8080/",
          "height": 34
        },
        "outputId": "ee983183-3ab1-4864-b154-07c4ea1884a1"
      },
      "cell_type": "code",
      "source": [
        "!ls"
      ],
      "execution_count": 2,
      "outputs": [
        {
          "output_type": "stream",
          "text": [
            "drive  sample_data\n"
          ],
          "name": "stdout"
        }
      ]
    },
    {
      "metadata": {
        "id": "mK4qCiGl0jfV",
        "colab_type": "code",
        "colab": {}
      },
      "cell_type": "code",
      "source": [
        "import os \n",
        "os.chdir('drive/My Drive/brat')"
      ],
      "execution_count": 0,
      "outputs": []
    },
    {
      "metadata": {
        "id": "w6mwJaRy0r02",
        "colab_type": "code",
        "colab": {
          "base_uri": "https://localhost:8080/",
          "height": 221
        },
        "outputId": "14b6dc17-ce4d-4686-8fe7-84b36867d63e"
      },
      "cell_type": "code",
      "source": [
        "!ls"
      ],
      "execution_count": 4,
      "outputs": [
        {
          "output_type": "stream",
          "text": [
            "Brain tumor Segementation.gslides  model.ipynb\n",
            "Brain Tumor Segmentation.gdoc\t   siamese_training.ipynb\n",
            "data.ipynb\t\t\t   training.ipynb\n",
            "data_trial_81.h5\t\t   train-labels.tif\n",
            "data_trial_dim2_128.h5\t\t   train-volume.tif\n",
            "data_Y_0001.pickle\t\t   trial_0001_2path_acc.h5\n",
            "FinalCode.ipynb\t\t\t   trial_0001_accuracy.h5\n",
            "HG\t\t\t\t   trial_0001_input_cascasde_acc.h5\n",
            "info1_input.h5\t\t\t   trial_0001_MFCcas_dim2_128_acc.h5\n",
            "info_mfc.h5\t\t\t   trial_MFCcascade_acc.h5\n",
            "LG\t\t\t\t   unet_paper_architecture.ipynb\n",
            "MFC_cascade_siam.h5\t\t   untitled.ipynb\n"
          ],
          "name": "stdout"
        }
      ]
    },
    {
      "metadata": {
        "id": "KpItQ9GK34hk",
        "colab_type": "code",
        "colab": {
          "base_uri": "https://localhost:8080/",
          "height": 34
        },
        "outputId": "3d909b94-563b-4d38-fe48-72d18d28f372"
      },
      "cell_type": "code",
      "source": [
        "import keras\n",
        "from keras import layers\n",
        "from keras.layers import Input, Dense, Activation, ZeroPadding2D, BatchNormalization, Flatten, Conv2D, Lambda,Concatenate,Cropping2D\n",
        "from keras.layers import AveragePooling2D, MaxPooling2D, Dropout, GlobalMaxPooling2D, GlobalAveragePooling2D, Add, Conv2DTranspose\n",
        "from keras.models import Model\n",
        "from keras import regularizers\n",
        "from keras.preprocessing import image\n",
        "from keras.utils import layer_utils\n",
        "from keras.utils.data_utils import get_file\n",
        "from keras.applications.imagenet_utils import preprocess_input\n",
        "from keras.initializers import glorot_normal\n",
        "#import pydot\n",
        "from IPython.display import SVG\n",
        "from keras.utils.vis_utils import model_to_dot\n",
        "from keras.utils import plot_model"
      ],
      "execution_count": 6,
      "outputs": [
        {
          "output_type": "stream",
          "text": [
            "Using TensorFlow backend.\n"
          ],
          "name": "stderr"
        }
      ]
    },
    {
      "metadata": {
        "id": "wQF4FgJecYeH",
        "colab_type": "code",
        "colab": {}
      },
      "cell_type": "code",
      "source": [
        "def crop(in1,in2):\n",
        "  len1 = int(in1[1])*2\n",
        "  wid1 = int(in1[2])*2\n",
        "  len2 = int(in2[1])\n",
        "  wid2 = int(in2[2])\n",
        "  ln = int((len2-len1)/2) \n",
        "  wid = int((wid2-wid1)/2)\n",
        "  return (ln,wid)"
      ],
      "execution_count": 0,
      "outputs": []
    },
    {
      "metadata": {
        "id": "K9iLYJg1ccPj",
        "colab_type": "code",
        "colab": {}
      },
      "cell_type": "code",
      "source": [
        "def conv_block(X,filters):\n",
        "  X = Conv2D(filters,(3,3))(X)\n",
        "  X = BatchNormalization()(X)\n",
        "  X = Activation('relu')(X)\n",
        "  X = Conv2D(filters,(3,3))(X)\n",
        "  X = BatchNormalization()(X)\n",
        "  X = Activation('relu')(X)\n",
        "  \n",
        "  return X"
      ],
      "execution_count": 0,
      "outputs": []
    },
    {
      "metadata": {
        "id": "KnJlFYUJccTj",
        "colab_type": "code",
        "colab": {}
      },
      "cell_type": "code",
      "source": [
        "def down_block(X,block_no):\n",
        "  Xa = conv_block(X,64*2**(block_no - 1))\n",
        "  X = MaxPooling2D((2,2))(Xa)\n",
        "  print(X.shape)\n",
        "  \n",
        "  return(X,Xa)"
      ],
      "execution_count": 0,
      "outputs": []
    },
    {
      "metadata": {
        "id": "jhbeEPSSccZD",
        "colab_type": "code",
        "colab": {}
      },
      "cell_type": "code",
      "source": [
        "def up_block(X,Xa):\n",
        "  crop_shape = crop(X.shape,Xa.shape)\n",
        "  ln = int(X.shape[1])\n",
        "  channels = int(Xa.shape[3])\n",
        "  X = Conv2DTranspose(channels,(2,2),strides=(2,2))(X)\n",
        "  Xa = Cropping2D(crop_shape)(Xa)\n",
        " \n",
        "  \n",
        "  if(Xa.shape[1] != ln*2):\n",
        "    Xa = MaxPooling2D((2,2),(1,1))(Xa)\n",
        "  print(X.shape,Xa.shape)\n",
        "  X = Concatenate(axis=-1)([Xa,X])\n",
        "  print(X.shape)\n",
        "  \n",
        "  return X"
      ],
      "execution_count": 0,
      "outputs": []
    },
    {
      "metadata": {
        "id": "AolwEtNx1I5Q",
        "colab_type": "code",
        "colab": {
          "base_uri": "https://localhost:8080/",
          "height": 272
        },
        "outputId": "67e991a3-a875-48d7-d0bc-23d2acc735d6"
      },
      "cell_type": "code",
      "source": [
        "  input_shape=(572,572,1)\n",
        "#def unet(input_shape):\n",
        "  X_in = Input(input_shape)\n",
        "  \n",
        "  X,X1 = down_block(X_in,1)\n",
        "  \n",
        "  X,X2 = down_block(X,2)\n",
        "    \n",
        "  X,X3 = down_block(X,3)\n",
        "  \n",
        "  X,X4 = down_block(X,4)\n",
        "  \n",
        "  X = conv_block(X,5)\n",
        "  \n",
        "  X = up_block(X,X4)\n",
        "  \n",
        "  X = conv_block(X,512)\n",
        "  \n",
        "  X = up_block(X,X3)\n",
        "  \n",
        "  X = conv_block(X,256) \n",
        "  print(X.shape)\n",
        "  \n",
        "  X = up_block(X,X2)\n",
        "  \n",
        "  X = conv_block(X,128) \n",
        "  print(X.shape)\n",
        "  \n",
        "  X = up_block(X,X1)\n",
        "               \n",
        "  X = conv_block(X,64)\n",
        "  \n",
        "  X = Conv2D(1,(1,1))(X)\n",
        "  X = Activation('softmax')(X)\n",
        "  print(X.shape)\n",
        "  \n",
        "  #X = Conv2DTranspose(1,(2,2),strides=(2,2))(X)\n",
        "  #X = Conv2D(1,(5,5))(X)\n",
        "  #print(X.shape)\n",
        "  M = Model(inputs=X_in,outputs=X)"
      ],
      "execution_count": 7,
      "outputs": [
        {
          "output_type": "stream",
          "text": [
            "(?, 284, 284, 64)\n",
            "(?, 140, 140, 128)\n",
            "(?, 68, 68, 256)\n",
            "(?, 32, 32, 512)\n",
            "(?, ?, ?, 512) (?, 56, 56, 512)\n",
            "(?, 56, 56, 1024)\n",
            "(?, ?, ?, 256) (?, 104, 104, 256)\n",
            "(?, 104, 104, 512)\n",
            "(?, 100, 100, 256)\n",
            "(?, ?, ?, 128) (?, 200, 200, 128)\n",
            "(?, 200, 200, 256)\n",
            "(?, 196, 196, 128)\n",
            "(?, ?, ?, 64) (?, 392, 392, 64)\n",
            "(?, 392, 392, 128)\n",
            "(?, 388, 388, 1)\n"
          ],
          "name": "stdout"
        }
      ]
    },
    {
      "metadata": {
        "id": "daX5rB3ZuFHN",
        "colab_type": "code",
        "colab": {}
      },
      "cell_type": "code",
      "source": [
        "from skimage import io\n",
        "import numpy as np"
      ],
      "execution_count": 0,
      "outputs": []
    },
    {
      "metadata": {
        "id": "1ceukJE2uucz",
        "colab_type": "code",
        "colab": {
          "base_uri": "https://localhost:8080/",
          "height": 34
        },
        "outputId": "37e7e47c-5e23-426f-9078-51b1614cdee0"
      },
      "cell_type": "code",
      "source": [
        "img = io.imread('train-volume.tif')\n",
        "x = np.asarray(img)\n",
        "x.shape"
      ],
      "execution_count": 8,
      "outputs": [
        {
          "output_type": "execute_result",
          "data": {
            "text/plain": [
              "(30, 512, 512)"
            ]
          },
          "metadata": {
            "tags": []
          },
          "execution_count": 8
        }
      ]
    },
    {
      "metadata": {
        "id": "hli6q7WBu8Wk",
        "colab_type": "code",
        "colab": {
          "base_uri": "https://localhost:8080/",
          "height": 34
        },
        "outputId": "1cc618c1-1e2f-4e1e-dac3-a16ba4e4569d"
      },
      "cell_type": "code",
      "source": [
        "img = io.imread('train-labels.tif')\n",
        "Y = np.asarray(img)\n",
        "Y.shape"
      ],
      "execution_count": 9,
      "outputs": [
        {
          "output_type": "execute_result",
          "data": {
            "text/plain": [
              "(30, 512, 512)"
            ]
          },
          "metadata": {
            "tags": []
          },
          "execution_count": 9
        }
      ]
    },
    {
      "metadata": {
        "id": "6pTRK3FkHvNJ",
        "colab_type": "code",
        "colab": {
          "base_uri": "https://localhost:8080/",
          "height": 34
        },
        "outputId": "3b95a46d-d677-4c20-8ee7-ff4a2b44d63d"
      },
      "cell_type": "code",
      "source": [
        "Y = Y[:,94:418,94:418]/255\n",
        "Y.shape"
      ],
      "execution_count": 10,
      "outputs": [
        {
          "output_type": "execute_result",
          "data": {
            "text/plain": [
              "(30, 324, 324)"
            ]
          },
          "metadata": {
            "tags": []
          },
          "execution_count": 10
        }
      ]
    },
    {
      "metadata": {
        "id": "wSJ4TQaoIeEK",
        "colab_type": "code",
        "colab": {}
      },
      "cell_type": "code",
      "source": [
        "x = x.reshape((30,512,512,1))\n",
        "Y = Y.reshape((30,324,324,1))"
      ],
      "execution_count": 0,
      "outputs": []
    },
    {
      "metadata": {
        "id": "qjDdczxsf5iC",
        "colab_type": "code",
        "colab": {}
      },
      "cell_type": "code",
      "source": [
        "M.compile(optimizer='adam',loss='binary_crossentropy',metrics=['accuracy'])"
      ],
      "execution_count": 0,
      "outputs": []
    },
    {
      "metadata": {
        "id": "ehRQE8CMRItN",
        "colab_type": "text"
      },
      "cell_type": "markdown",
      "source": [
        "**unbalanced classes, stuck into local minima(Performance is better than all 1)**"
      ]
    },
    {
      "metadata": {
        "id": "52qiq5USJKUK",
        "colab_type": "code",
        "colab": {}
      },
      "cell_type": "code",
      "source": [
        "M.fit(x,y,epochs=2,batch_size=2)"
      ],
      "execution_count": 0,
      "outputs": []
    },
    {
      "metadata": {
        "id": "0Mj9WruZGb5_",
        "colab_type": "text"
      },
      "cell_type": "markdown",
      "source": [
        "**Trying to resolve unbalanced class**"
      ]
    },
    {
      "metadata": {
        "id": "AA9dR5f-AyBr",
        "colab_type": "code",
        "colab": {
          "base_uri": "https://localhost:8080/",
          "height": 34
        },
        "outputId": "deacc429-41c9-42c8-d62c-f9feaf80ed5e"
      },
      "cell_type": "code",
      "source": [
        "sm = np.sum(Y)/(30*324*324)\n",
        "weight = [sm,1-sm]\n",
        "weight"
      ],
      "execution_count": 13,
      "outputs": [
        {
          "output_type": "execute_result",
          "data": {
            "text/plain": [
              "[0.7659684118274653, 0.23403158817253467]"
            ]
          },
          "metadata": {
            "tags": []
          },
          "execution_count": 13
        }
      ]
    },
    {
      "metadata": {
        "id": "eFc_kTNKJKzH",
        "colab_type": "code",
        "colab": {
          "base_uri": "https://localhost:8080/",
          "height": 34
        },
        "outputId": "ed39cd67-afe3-495f-8fd9-203a3f830ad2"
      },
      "cell_type": "code",
      "source": [
        "M.fit(x,Y,epochs=10,class_weight = weight)"
      ],
      "execution_count": 0,
      "outputs": [
        {
          "output_type": "stream",
          "text": [
            "Epoch 1/10\n"
          ],
          "name": "stdout"
        }
      ]
    },
    {
      "metadata": {
        "id": "jh9SKQnFRFFB",
        "colab_type": "code",
        "colab": {}
      },
      "cell_type": "code",
      "source": [
        ""
      ],
      "execution_count": 0,
      "outputs": []
    }
  ]
}